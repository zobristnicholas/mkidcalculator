{
 "cells": [
  {
   "cell_type": "markdown",
   "metadata": {
    "collapsed": true,
    "pycharm": {
     "name": "#%% md\n"
    }
   },
   "source": [
    "# Noise Decomposition Tutorial\n",
    "We start with the setup/import statements that we will need. Note that we've set the logging level to INFO. This can be\n",
    "changed to see more or less of the code's logging messages."
   ]
  },
  {
   "cell_type": "code",
   "execution_count": 1,
   "outputs": [],
   "source": [
    "import logging\n",
    "import matplotlib\n",
    "import numpy as np\n",
    "import mkidcalculator as mc\n",
    "import matplotlib.pyplot as plt\n",
    "\n",
    "%matplotlib inline\n",
    "logging.basicConfig(level=logging.INFO)"
   ],
   "metadata": {
    "collapsed": false,
    "pycharm": {
     "name": "#%%\n"
    }
   }
  },
  {
   "cell_type": "markdown",
   "source": [
    "Let's load in the data from the loop fitting tutorial but look at just one loop."
   ],
   "metadata": {
    "collapsed": false,
    "pycharm": {
     "name": "#%% md\n"
    }
   }
  },
  {
   "cell_type": "code",
   "execution_count": null,
   "outputs": [],
   "source": [
    "directory = '/Volumes/data/Paul/PtSi_MKIDs/Data/PtSi/20160219/ps2/'\n",
    "file_name = 'sweep_config_20160219180719.mat'\n",
    "sweep = mc.Sweep.from_file(directory + file_name, data=mc.io.legacy_sweep)\n",
    "loop = sweep.resonators[0].loops[1]"
   ],
   "metadata": {
    "collapsed": false,
    "pycharm": {
     "name": "#%%\n",
     "is_executing": true
    }
   }
  },
  {
   "cell_type": "markdown",
   "source": [
    "All of the noise datasets taken for this resonator loop are stored inside of the loop's noise attribute.\n",
    "Each noise object has a matrix of I and Q mixer data from which we can plot the first trace as a function of time."
   ],
   "metadata": {
    "collapsed": false,
    "pycharm": {
     "name": "#%% md\n"
    }
   }
  },
  {
   "cell_type": "code",
   "execution_count": null,
   "outputs": [],
   "source": [
    "noise = loop.noise[0]\n",
    "time = np.arange(noise.i_trace.shape[1]) / noise.sample_rate  # time in s\n",
    "plt.plot(time, noise.i_trace[0], label=\"I\")\n",
    "plt.plot(time, noise.q_trace[0], label=\"Q\")\n",
    "plt.legend()\n",
    "plt.xlabel(\"time [s]\")\n",
    "plt.ylabel(\"voltage [V]\");"
   ],
   "metadata": {
    "collapsed": false,
    "pycharm": {
     "name": "#%%\n",
     "is_executing": true
    }
   }
  },
  {
   "cell_type": "markdown",
   "source": [
    "We can also plot the I and Q data on the resonance loop."
   ],
   "metadata": {
    "collapsed": false,
    "pycharm": {
     "name": "#%% md\n"
    }
   }
  },
  {
   "cell_type": "code",
   "execution_count": null,
   "outputs": [],
   "source": [
    "axes_list = loop.plot(\"iq\", n_rows=1)\n",
    "axes_list[0].plot(noise.i_trace[0], noise.q_trace[0], '.', markersize=0.01);"
   ],
   "metadata": {
    "collapsed": false,
    "pycharm": {
     "name": "#%%\n",
     "is_executing": true
    }
   }
  },
  {
   "cell_type": "markdown",
   "source": [
    "To translate the I and Q data to a phase and dissipation, we must apply a coordinate transformation which requires the\n",
    "loop to be fit.\n",
    " \n",
    "We do so just as in the loop fitting tutorial, and then choose the fit which we would like to use in the\n",
    "compute_phase_and_dissipation() method. The phase can be unwrapped if needed."
   ],
   "metadata": {
    "collapsed": false,
    "pycharm": {
     "name": "#%% md\n",
     "is_executing": false
    }
   }
  },
  {
   "cell_type": "code",
   "execution_count": null,
   "outputs": [],
   "source": [
    "mc.experiments.multiple_fit(loop, guess_kwargs={'fit_imbalance': True})\n",
    "\n",
    "loop.plot(\n",
    "    plot_fit=True,\n",
    "    calibrate=True, \n",
    "    fit_parameters=(\"fr\", \"q0\", \"qc\", \"qi\", \"a\", \"chi2\", \"alpha\", \"beta\")\n",
    ")\n",
    "\n",
    "noise.compute_phase_and_dissipation(label=\"best\", unwrap=False);"
   ],
   "metadata": {
    "collapsed": false,
    "pycharm": {
     "name": "#%%\n",
     "is_executing": true
    }
   }
  },
  {
   "cell_type": "markdown",
   "source": [
    "The p_trace and d_trace attributes are now populated with the transformed data and are in units of radians. A phase of\n",
    "zero corresponds to on resonance and a dissipation of zero corresponds to on the loop."
   ],
   "metadata": {
    "collapsed": false,
    "pycharm": {
     "name": "#%% md\n"
    }
   }
  },
  {
   "cell_type": "code",
   "execution_count": null,
   "outputs": [],
   "source": [
    "plt.plot(time, noise.p_trace[0], label=\"phase\")\n",
    "plt.plot(time, noise.d_trace[0], label=\"dissipation\")\n",
    "plt.legend()\n",
    "plt.xlabel(\"time [s]\")\n",
    "plt.ylabel(\"radians\");"
   ],
   "metadata": {
    "collapsed": false,
    "pycharm": {
     "name": "#%%\n",
     "is_executing": true
    }
   }
  },
  {
   "cell_type": "markdown",
   "source": [
    "We can also calculate the power spectral density of the noise from the trace data and plot it.\n",
    "\n",
    "Under the hood this method used scipy.signal.welch, so we can use the nperseg keyword argument to select a shorter time\n",
    "range and take advantage of averaging. "
   ],
   "metadata": {
    "collapsed": false,
    "pycharm": {
     "name": "#%% md\n"
    }
   }
  },
  {
   "cell_type": "code",
   "execution_count": null,
   "outputs": [],
   "source": [
    "noise.compute_psd(nperseg=2000)\n",
    "noise.plot_psd(\"iq\")\n",
    "noise.plot_psd(\"pd\");"
   ],
   "metadata": {
    "collapsed": false,
    "pycharm": {
     "name": "#%%\n",
     "is_executing": true
    }
   }
  },
  {
   "cell_type": "markdown",
   "source": [
    "Note that after decomposing the noise into the phase and dissipation directions there is no 1/f dissipation noise at low \n",
    "frequencies."
   ],
   "metadata": {
    "collapsed": false,
    "pycharm": {
     "name": "#%% md\n"
    }
   }
  }
 ],
 "metadata": {
  "kernelspec": {
   "display_name": "Python 3",
   "language": "python",
   "name": "python3"
  },
  "language_info": {
   "codemirror_mode": {
    "name": "ipython",
    "version": 2
   },
   "file_extension": ".py",
   "mimetype": "text/x-python",
   "name": "python",
   "nbconvert_exporter": "python",
   "pygments_lexer": "ipython2",
   "version": "2.7.6"
  }
 },
 "nbformat": 4,
 "nbformat_minor": 0
}